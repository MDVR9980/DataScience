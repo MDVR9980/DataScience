{
 "cells": [
  {
   "cell_type": "code",
   "execution_count": 1,
   "id": "a5a62539-ba63-4288-bd7c-0f684cfd0fc8",
   "metadata": {},
   "outputs": [],
   "source": [
    "import numpy as np"
   ]
  },
  {
   "cell_type": "code",
   "execution_count": 2,
   "id": "e0fadde4-349b-4430-a999-32d1b8e82623",
   "metadata": {},
   "outputs": [],
   "source": [
    "import time"
   ]
  },
  {
   "cell_type": "code",
   "execution_count": 3,
   "id": "38fa0b34-9df8-4acf-907c-ae6323c9020a",
   "metadata": {},
   "outputs": [],
   "source": [
    "def purePython():\n",
    "    ts = time.time()\n",
    "    X = range(100000000)\n",
    "    Y = range(100000000)\n",
    "    Z = []\n",
    "    for i in range(100000000):\n",
    "        Z.append(X[i] + Y[i])\n",
    "\n",
    "    te = time.time()\n",
    "\n",
    "    return te - ts"
   ]
  },
  {
   "cell_type": "code",
   "execution_count": 4,
   "id": "49b94689-9ba2-4422-8ff4-addd09037541",
   "metadata": {},
   "outputs": [
    {
     "data": {
      "text/plain": [
       "13.3826584815979"
      ]
     },
     "execution_count": 4,
     "metadata": {},
     "output_type": "execute_result"
    }
   ],
   "source": [
    "purePython()"
   ]
  },
  {
   "cell_type": "code",
   "execution_count": 5,
   "id": "32aa9c3a-9866-4fea-a6cf-33f86ca08ac1",
   "metadata": {},
   "outputs": [],
   "source": [
    "def numpyPython():\n",
    "    ts = time.time()\n",
    "    X = np.arange(100000000)\n",
    "    Y = np.arange(100000000)\n",
    "    Z = X + Y\n",
    "    te = time.time()\n",
    "    return te - ts"
   ]
  },
  {
   "cell_type": "code",
   "execution_count": 6,
   "id": "8aa5eb58-763e-4d9b-ad58-294c6caac5c0",
   "metadata": {},
   "outputs": [
    {
     "data": {
      "text/plain": [
       "0.5286729335784912"
      ]
     },
     "execution_count": 6,
     "metadata": {},
     "output_type": "execute_result"
    }
   ],
   "source": [
    "numpyPython()"
   ]
  },
  {
   "cell_type": "code",
   "execution_count": null,
   "id": "6ad80e8a-8526-4eba-8024-646184ef3388",
   "metadata": {},
   "outputs": [],
   "source": []
  }
 ],
 "metadata": {
  "kernelspec": {
   "display_name": "Python 3 (ipykernel)",
   "language": "python",
   "name": "python3"
  },
  "language_info": {
   "codemirror_mode": {
    "name": "ipython",
    "version": 3
   },
   "file_extension": ".py",
   "mimetype": "text/x-python",
   "name": "python",
   "nbconvert_exporter": "python",
   "pygments_lexer": "ipython3",
   "version": "3.12.7"
  }
 },
 "nbformat": 4,
 "nbformat_minor": 5
}
