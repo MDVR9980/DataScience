{
 "cells": [
  {
   "cell_type": "code",
   "execution_count": 42,
   "id": "828c17e6-d1d9-4660-ac3e-91c9e33f4e69",
   "metadata": {},
   "outputs": [],
   "source": [
    "import pandas as pd "
   ]
  },
  {
   "cell_type": "code",
   "execution_count": 3,
   "id": "9eb0fdf5-a87b-45dd-9691-72cc74e8da4c",
   "metadata": {},
   "outputs": [
    {
     "data": {
      "text/plain": [
       "'2.2.2'"
      ]
     },
     "execution_count": 3,
     "metadata": {},
     "output_type": "execute_result"
    }
   ],
   "source": [
    "pd.__version__"
   ]
  },
  {
   "cell_type": "code",
   "execution_count": 4,
   "id": "10dd3aeb-2df5-42ae-a965-0a4b60dcc110",
   "metadata": {},
   "outputs": [],
   "source": [
    "data = pd.read_csv('dataset.csv') "
   ]
  },
  {
   "cell_type": "code",
   "execution_count": 5,
   "id": "6ce9b550-056f-497b-9b63-dac12991ab98",
   "metadata": {},
   "outputs": [
    {
     "data": {
      "text/html": [
       "<div>\n",
       "<style scoped>\n",
       "    .dataframe tbody tr th:only-of-type {\n",
       "        vertical-align: middle;\n",
       "    }\n",
       "\n",
       "    .dataframe tbody tr th {\n",
       "        vertical-align: top;\n",
       "    }\n",
       "\n",
       "    .dataframe thead th {\n",
       "        text-align: right;\n",
       "    }\n",
       "</style>\n",
       "<table border=\"1\" class=\"dataframe\">\n",
       "  <thead>\n",
       "    <tr style=\"text-align: right;\">\n",
       "      <th></th>\n",
       "      <th>fname</th>\n",
       "      <th>lname</th>\n",
       "      <th>age</th>\n",
       "      <th>gender</th>\n",
       "    </tr>\n",
       "  </thead>\n",
       "  <tbody>\n",
       "    <tr>\n",
       "      <th>0</th>\n",
       "      <td>davood</td>\n",
       "      <td>rajaee</td>\n",
       "      <td>23</td>\n",
       "      <td>male</td>\n",
       "    </tr>\n",
       "    <tr>\n",
       "      <th>1</th>\n",
       "      <td>sara</td>\n",
       "      <td>hashemi</td>\n",
       "      <td>18</td>\n",
       "      <td>female</td>\n",
       "    </tr>\n",
       "  </tbody>\n",
       "</table>\n",
       "</div>"
      ],
      "text/plain": [
       "    fname     lname   age   gender\n",
       "0  davood    rajaee    23     male\n",
       "1    sara   hashemi    18   female"
      ]
     },
     "execution_count": 5,
     "metadata": {},
     "output_type": "execute_result"
    }
   ],
   "source": [
    "data"
   ]
  },
  {
   "cell_type": "code",
   "execution_count": 36,
   "id": "030ed496-89d1-4186-ae06-1012da0bcb39",
   "metadata": {},
   "outputs": [
    {
     "data": {
      "text/plain": [
       "0    Tiger\n",
       "1     Bear\n",
       "2     Lion\n",
       "dtype: object"
      ]
     },
     "execution_count": 36,
     "metadata": {},
     "output_type": "execute_result"
    }
   ],
   "source": [
    "animals = ['Tiger', 'Bear', 'Lion']\n",
    "pdAnimals = pd.Series(animals)\n",
    "pdAnimals"
   ]
  },
  {
   "cell_type": "code",
   "execution_count": 11,
   "id": "3a2e0021-564e-42c5-bcbc-8f2af1deb0da",
   "metadata": {},
   "outputs": [
    {
     "data": {
      "text/plain": [
       "pandas.core.series.Series"
      ]
     },
     "execution_count": 11,
     "metadata": {},
     "output_type": "execute_result"
    }
   ],
   "source": [
    "type(pdAnimals)"
   ]
  },
  {
   "cell_type": "code",
   "execution_count": 15,
   "id": "ab193ce1-8069-4001-91c0-0ed4dc0f09a8",
   "metadata": {},
   "outputs": [
    {
     "data": {
      "text/plain": [
       "'Bear'"
      ]
     },
     "execution_count": 15,
     "metadata": {},
     "output_type": "execute_result"
    }
   ],
   "source": [
    "pdAnimals[1]"
   ]
  },
  {
   "cell_type": "code",
   "execution_count": 40,
   "id": "e85fb874-6c67-4d6c-bc83-708472b15179",
   "metadata": {},
   "outputs": [
    {
     "data": {
      "text/plain": [
       "n1    Tiger\n",
       "n2     Bear\n",
       "n3     Lion\n",
       "dtype: object"
      ]
     },
     "execution_count": 40,
     "metadata": {},
     "output_type": "execute_result"
    }
   ],
   "source": [
    " animals = {\n",
    "     'n1' : 'Tiger',\n",
    "     'n2' : 'Bear',\n",
    "     'n3' : 'Lion'\n",
    " }\n",
    "pAnimals = pd.Series(animals)\n",
    "pAnimals"
   ]
  },
  {
   "cell_type": "code",
   "execution_count": 23,
   "id": "57f2a9cd-a871-4de9-8cfa-7599872f6c05",
   "metadata": {},
   "outputs": [
    {
     "data": {
      "text/plain": [
       "Index(['n1', 'n2', 'n3'], dtype='object')"
      ]
     },
     "execution_count": 23,
     "metadata": {},
     "output_type": "execute_result"
    }
   ],
   "source": [
    "pAnimals.index"
   ]
  },
  {
   "cell_type": "code",
   "execution_count": 24,
   "id": "38c1814b-fa94-44b2-920c-c84363424d1f",
   "metadata": {},
   "outputs": [
    {
     "data": {
      "text/plain": [
       "array(['Tiger', 'Bear', None], dtype=object)"
      ]
     },
     "execution_count": 24,
     "metadata": {},
     "output_type": "execute_result"
    }
   ],
   "source": [
    "pAnimals.values"
   ]
  },
  {
   "cell_type": "code",
   "execution_count": 25,
   "id": "25de2f81-671e-4ec2-8faf-e56431282bdf",
   "metadata": {},
   "outputs": [
    {
     "data": {
      "text/plain": [
       "'Tiger'"
      ]
     },
     "execution_count": 25,
     "metadata": {},
     "output_type": "execute_result"
    }
   ],
   "source": [
    "pAnimals['n1']"
   ]
  },
  {
   "cell_type": "code",
   "execution_count": 26,
   "id": "d05e1449-81ef-43ca-917f-968184e35e5d",
   "metadata": {},
   "outputs": [
    {
     "data": {
      "text/plain": [
       "'Tiger'"
      ]
     },
     "execution_count": 26,
     "metadata": {},
     "output_type": "execute_result"
    }
   ],
   "source": [
    "pAnimals.loc['n1']"
   ]
  },
  {
   "cell_type": "code",
   "execution_count": 27,
   "id": "df16d405-ff99-442b-b71c-acfd1c43279c",
   "metadata": {},
   "outputs": [
    {
     "data": {
      "text/plain": [
       "'Tiger'"
      ]
     },
     "execution_count": 27,
     "metadata": {},
     "output_type": "execute_result"
    }
   ],
   "source": [
    "pAnimals.iloc[0]"
   ]
  },
  {
   "cell_type": "code",
   "execution_count": 32,
   "id": "3319cdae-976e-45bb-aec2-f32df4de8328",
   "metadata": {},
   "outputs": [
    {
     "name": "stdout",
     "output_type": "stream",
     "text": [
      "salam Tiger\n",
      "salam Bear\n",
      "salam None\n"
     ]
    }
   ],
   "source": [
    "for item in pAnimals:\n",
    "    print('salam ' + str(item))"
   ]
  },
  {
   "cell_type": "code",
   "execution_count": 33,
   "id": "d6d35cbc-0fc9-4b11-a6cd-cee76bdb4f0a",
   "metadata": {},
   "outputs": [],
   "source": [
    "import numpy as np"
   ]
  },
  {
   "cell_type": "code",
   "execution_count": 34,
   "id": "4f776a5a-290b-44b6-b10e-bd5a1e092755",
   "metadata": {},
   "outputs": [
    {
     "data": {
      "text/plain": [
       "27"
      ]
     },
     "execution_count": 34,
     "metadata": {},
     "output_type": "execute_result"
    }
   ],
   "source": [
    "num = [2 , 20, 5]\n",
    "pNum = pd.Series(num)\n",
    "np.sum(pNum)"
   ]
  },
  {
   "cell_type": "code",
   "execution_count": 44,
   "id": "a5b241a1-c993-4185-81ee-e6cb0b864522",
   "metadata": {},
   "outputs": [
    {
     "name": "stdout",
     "output_type": "stream",
     "text": [
      "Salam Tiger... index is 0\n",
      "Salam Bear... index is 1\n",
      "Salam Lion... index is 2\n"
     ]
    }
   ],
   "source": [
    "for index, item in pdAnimals.items():\n",
    "    print('Salam ' + str(item) + '... index is ' + str(index))"
   ]
  },
  {
   "cell_type": "code",
   "execution_count": null,
   "id": "e4b1dd9e-f279-4d0c-abc9-0d714773e9fe",
   "metadata": {},
   "outputs": [],
   "source": []
  }
 ],
 "metadata": {
  "kernelspec": {
   "display_name": "Python 3 (ipykernel)",
   "language": "python",
   "name": "python3"
  },
  "language_info": {
   "codemirror_mode": {
    "name": "ipython",
    "version": 3
   },
   "file_extension": ".py",
   "mimetype": "text/x-python",
   "name": "python",
   "nbconvert_exporter": "python",
   "pygments_lexer": "ipython3",
   "version": "3.12.7"
  }
 },
 "nbformat": 4,
 "nbformat_minor": 5
}
