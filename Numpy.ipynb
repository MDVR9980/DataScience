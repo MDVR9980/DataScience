{
 "cells": [
  {
   "cell_type": "code",
   "execution_count": 1,
   "id": "2a669783-e11a-4b01-a388-f892afe37b72",
   "metadata": {},
   "outputs": [],
   "source": [
    "list = [1, 2, 3, 5, 7, 11, 13]"
   ]
  },
  {
   "cell_type": "code",
   "execution_count": 2,
   "id": "d5ace618-a95b-4a71-b0e8-ce25c81b9cf6",
   "metadata": {},
   "outputs": [
    {
     "name": "stdout",
     "output_type": "stream",
     "text": [
      "[1, 2, 3, 5, 7, 11, 13]\n"
     ]
    }
   ],
   "source": [
    "print(list)"
   ]
  },
  {
   "cell_type": "code",
   "execution_count": 5,
   "id": "b8941440-e07a-438b-9590-bbe1eb20aa6b",
   "metadata": {},
   "outputs": [],
   "source": [
    "list2 = [2, 4, 6 ,8, 10, 12, 14]"
   ]
  },
  {
   "cell_type": "code",
   "execution_count": 6,
   "id": "4771b105-6314-4dc4-8806-206c2c5a710d",
   "metadata": {},
   "outputs": [
    {
     "name": "stdout",
     "output_type": "stream",
     "text": [
      "[2, 4, 6, 8, 10, 12, 14]\n"
     ]
    }
   ],
   "source": [
    "print(list2)  "
   ]
  },
  {
   "cell_type": "code",
   "execution_count": 7,
   "id": "1af93378-774f-4cf3-8966-ae2b901b3ae5",
   "metadata": {},
   "outputs": [],
   "source": [
    "matrix = [list, list2]"
   ]
  },
  {
   "cell_type": "code",
   "execution_count": 8,
   "id": "bb2b5fc9-ab02-4232-92c1-9bcf34e4c5bd",
   "metadata": {},
   "outputs": [
    {
     "name": "stdout",
     "output_type": "stream",
     "text": [
      "[[1, 2, 3, 5, 7, 11, 13], [2, 4, 6, 8, 10, 12, 14]]\n"
     ]
    }
   ],
   "source": [
    "print(matrix)"
   ]
  },
  {
   "cell_type": "code",
   "execution_count": 2,
   "id": "07d159b0-4c4f-49b8-8a0f-6a42859a30f8",
   "metadata": {},
   "outputs": [],
   "source": [
    " vector = [1, 2, 3]"
   ]
  },
  {
   "cell_type": "code",
   "execution_count": 10,
   "id": "a4903dec-272e-4ae5-92c7-1b93b5c6d629",
   "metadata": {},
   "outputs": [
    {
     "name": "stdout",
     "output_type": "stream",
     "text": [
      "<class 'list'>\n"
     ]
    }
   ],
   "source": [
    "print(type(vector))"
   ]
  },
  {
   "cell_type": "code",
   "execution_count": 4,
   "id": "0307773c-f539-4301-ba66-7caacb458463",
   "metadata": {},
   "outputs": [],
   "source": [
    "import numpy as np"
   ]
  },
  {
   "cell_type": "code",
   "execution_count": 5,
   "id": "518e6274-cc5f-47ea-b6ff-a03d4b8b9710",
   "metadata": {},
   "outputs": [],
   "source": [
    "nvector = np.array(vector)"
   ]
  },
  {
   "cell_type": "code",
   "execution_count": 6,
   "id": "3f560787-1483-43ba-816d-0f9122f39a86",
   "metadata": {},
   "outputs": [
    {
     "data": {
      "text/plain": [
       "array([1, 2, 3])"
      ]
     },
     "execution_count": 6,
     "metadata": {},
     "output_type": "execute_result"
    }
   ],
   "source": [
    "nvector"
   ]
  },
  {
   "cell_type": "code",
   "execution_count": 7,
   "id": "daa279d3-ed30-4ce3-bbbb-8481bdc10e26",
   "metadata": {},
   "outputs": [
    {
     "data": {
      "text/plain": [
       "array([[1, 2, 3, 1],\n",
       "       [2, 3, 1, 2],\n",
       "       [3, 1, 2, 3],\n",
       "       [1, 2, 3, 1]])"
      ]
     },
     "execution_count": 7,
     "metadata": {},
     "output_type": "execute_result"
    }
   ],
   "source": [
    "np.resize(nvector, (4, 4))"
   ]
  },
  {
   "cell_type": "code",
   "execution_count": 7,
   "id": "627417b9-4558-4c2f-bada-8899856ec539",
   "metadata": {},
   "outputs": [],
   "source": [
    "nvector.resize((3, 3), refcheck= False)"
   ]
  },
  {
   "cell_type": "code",
   "execution_count": 8,
   "id": "0771771b-ffef-4007-afda-7817677efc4a",
   "metadata": {},
   "outputs": [
    {
     "data": {
      "text/plain": [
       "array([[1, 2, 3],\n",
       "       [0, 0, 0],\n",
       "       [0, 0, 0]])"
      ]
     },
     "execution_count": 8,
     "metadata": {},
     "output_type": "execute_result"
    }
   ],
   "source": [
    "nvector"
   ]
  },
  {
   "cell_type": "code",
   "execution_count": 36,
   "id": "9fc03da4-83fe-4c79-a853-da84deb372f7",
   "metadata": {},
   "outputs": [],
   "source": [
    "matrix = np.ones((4, 4))"
   ]
  },
  {
   "cell_type": "code",
   "execution_count": 12,
   "id": "dfbcf6ae-26b1-4ea8-a992-eefdf1f5ee12",
   "metadata": {},
   "outputs": [
    {
     "data": {
      "text/plain": [
       "array([[1., 1., 1., 1.],\n",
       "       [1., 1., 1., 1.],\n",
       "       [1., 1., 1., 1.],\n",
       "       [1., 1., 1., 1.]])"
      ]
     },
     "execution_count": 12,
     "metadata": {},
     "output_type": "execute_result"
    }
   ],
   "source": [
    "matrix"
   ]
  },
  {
   "cell_type": "code",
   "execution_count": 13,
   "id": "bb963759-b5a0-412a-a60f-50e8795e7e2e",
   "metadata": {},
   "outputs": [],
   "source": [
    "matrix = np.zeros((4, 4))"
   ]
  },
  {
   "cell_type": "code",
   "execution_count": 14,
   "id": "ca53f183-64f0-4072-b7d6-0ddf4e62cc3a",
   "metadata": {},
   "outputs": [
    {
     "data": {
      "text/plain": [
       "array([[0., 0., 0., 0.],\n",
       "       [0., 0., 0., 0.],\n",
       "       [0., 0., 0., 0.],\n",
       "       [0., 0., 0., 0.]])"
      ]
     },
     "execution_count": 14,
     "metadata": {},
     "output_type": "execute_result"
    }
   ],
   "source": [
    "matrix"
   ]
  },
  {
   "cell_type": "code",
   "execution_count": 20,
   "id": "2ba0b874-be3e-4f70-a029-bcfd1336c3f2",
   "metadata": {},
   "outputs": [],
   "source": [
    "matrix2 = np.diag(matrix)"
   ]
  },
  {
   "cell_type": "code",
   "execution_count": 21,
   "id": "e37952c8-58d9-4452-82b9-e7cba76edff1",
   "metadata": {},
   "outputs": [
    {
     "data": {
      "text/plain": [
       "array([1., 1., 1., 1.])"
      ]
     },
     "execution_count": 21,
     "metadata": {},
     "output_type": "execute_result"
    }
   ],
   "source": [
    "matrix2"
   ]
  },
  {
   "cell_type": "code",
   "execution_count": 22,
   "id": "fe74ef24-fda9-45d5-a841-4518e237ea4a",
   "metadata": {},
   "outputs": [
    {
     "data": {
      "text/plain": [
       "array([4, 4, 4, 4, 4, 3, 3, 3, 3, 3, 2, 2, 2, 2, 2])"
      ]
     },
     "execution_count": 22,
     "metadata": {},
     "output_type": "execute_result"
    }
   ],
   "source": [
    "np.repeat([4, 3, 2], 5)"
   ]
  },
  {
   "cell_type": "code",
   "execution_count": 24,
   "id": "04731e49-9e49-4c30-8734-46f7c30e637d",
   "metadata": {},
   "outputs": [],
   "source": [
    "matrix = np.zeros((4, 4), int)"
   ]
  },
  {
   "cell_type": "code",
   "execution_count": 25,
   "id": "49da8b64-0710-433b-bbe5-2d2b9a29da22",
   "metadata": {},
   "outputs": [
    {
     "data": {
      "text/plain": [
       "array([[0, 0, 0, 0],\n",
       "       [0, 0, 0, 0],\n",
       "       [0, 0, 0, 0],\n",
       "       [0, 0, 0, 0]])"
      ]
     },
     "execution_count": 25,
     "metadata": {},
     "output_type": "execute_result"
    }
   ],
   "source": [
    "matrix"
   ]
  },
  {
   "cell_type": "code",
   "execution_count": 26,
   "id": "2eedfb92-85b3-42d1-a316-8a561d4b6ad4",
   "metadata": {},
   "outputs": [],
   "source": [
    "m1 = np.zeros((3, 5), int)"
   ]
  },
  {
   "cell_type": "code",
   "execution_count": 27,
   "id": "008a2bda-6021-48a0-9542-670a308a403d",
   "metadata": {},
   "outputs": [
    {
     "data": {
      "text/plain": [
       "array([[0, 0, 0, 0, 0],\n",
       "       [0, 0, 0, 0, 0],\n",
       "       [0, 0, 0, 0, 0]])"
      ]
     },
     "execution_count": 27,
     "metadata": {},
     "output_type": "execute_result"
    }
   ],
   "source": [
    "m1"
   ]
  },
  {
   "cell_type": "code",
   "execution_count": 29,
   "id": "93f5d6bc-ec1c-4cf8-8e56-454fa1b8385a",
   "metadata": {},
   "outputs": [],
   "source": [
    "m2 = np.ones((3, 5), int)"
   ]
  },
  {
   "cell_type": "code",
   "execution_count": 30,
   "id": "010e7176-a78c-40b8-98f1-f1cbf2e1c4ff",
   "metadata": {},
   "outputs": [
    {
     "data": {
      "text/plain": [
       "array([[1, 1, 1, 1, 1],\n",
       "       [1, 1, 1, 1, 1],\n",
       "       [1, 1, 1, 1, 1],\n",
       "       [0, 0, 0, 0, 0],\n",
       "       [0, 0, 0, 0, 0],\n",
       "       [0, 0, 0, 0, 0]])"
      ]
     },
     "execution_count": 30,
     "metadata": {},
     "output_type": "execute_result"
    }
   ],
   "source": [
    "np.vstack([m2, m1])"
   ]
  },
  {
   "cell_type": "code",
   "execution_count": 31,
   "id": "5d93dfa9-8fe9-4489-a158-78715d2fdbad",
   "metadata": {},
   "outputs": [
    {
     "data": {
      "text/plain": [
       "array([[0, 0, 0, 0, 0, 1, 1, 1, 1, 1],\n",
       "       [0, 0, 0, 0, 0, 1, 1, 1, 1, 1],\n",
       "       [0, 0, 0, 0, 0, 1, 1, 1, 1, 1]])"
      ]
     },
     "execution_count": 31,
     "metadata": {},
     "output_type": "execute_result"
    }
   ],
   "source": [
    "np.hstack([m1, m2])"
   ]
  },
  {
   "cell_type": "code",
   "execution_count": 32,
   "id": "92c3687e-cf51-4b6c-a93d-afcab76b67b5",
   "metadata": {},
   "outputs": [],
   "source": [
    "x = np.array([1, 2, 3])\n",
    "y = np.array([4, 5, 6])"
   ]
  },
  {
   "cell_type": "code",
   "execution_count": 33,
   "id": "441b26f5-dbd6-41cc-836e-c50b31713038",
   "metadata": {},
   "outputs": [
    {
     "data": {
      "text/plain": [
       "array([5, 7, 9])"
      ]
     },
     "execution_count": 33,
     "metadata": {},
     "output_type": "execute_result"
    }
   ],
   "source": [
    "z = x + y\n",
    "z"
   ]
  },
  {
   "cell_type": "code",
   "execution_count": 37,
   "id": "98bf1108-c18a-463c-8c0b-ed3ae8f17e11",
   "metadata": {},
   "outputs": [
    {
     "data": {
      "text/plain": [
       "array([[1, 2, 3],\n",
       "       [0, 0, 0],\n",
       "       [0, 0, 0]])"
      ]
     },
     "execution_count": 37,
     "metadata": {},
     "output_type": "execute_result"
    }
   ],
   "source": [
    "nvector"
   ]
  },
  {
   "cell_type": "code",
   "execution_count": 38,
   "id": "49ef83cc-7dc1-4b0f-9f39-f9de61787c7a",
   "metadata": {},
   "outputs": [
    {
     "data": {
      "text/plain": [
       "array([[1, 0, 0],\n",
       "       [2, 0, 0],\n",
       "       [3, 0, 0]])"
      ]
     },
     "execution_count": 38,
     "metadata": {},
     "output_type": "execute_result"
    }
   ],
   "source": [
    "nvector.T"
   ]
  },
  {
   "cell_type": "code",
   "execution_count": 39,
   "id": "07834737-1b55-4873-883b-a9aa0bd321a7",
   "metadata": {},
   "outputs": [
    {
     "data": {
      "text/plain": [
       "array([[1., 2., 3.],\n",
       "       [0., 0., 0.],\n",
       "       [0., 0., 0.]], dtype=float32)"
      ]
     },
     "execution_count": 39,
     "metadata": {},
     "output_type": "execute_result"
    }
   ],
   "source": [
    "nvector.astype('f')"
   ]
  },
  {
   "cell_type": "code",
   "execution_count": 40,
   "id": "ca7d1f49-2596-42b7-aec1-d0d1e249084b",
   "metadata": {},
   "outputs": [
    {
     "data": {
      "text/plain": [
       "6"
      ]
     },
     "execution_count": 40,
     "metadata": {},
     "output_type": "execute_result"
    }
   ],
   "source": [
    "nvector.sum()"
   ]
  },
  {
   "cell_type": "code",
   "execution_count": 42,
   "id": "c41ebb82-f635-4f33-a337-6c817f826aa6",
   "metadata": {},
   "outputs": [
    {
     "data": {
      "text/plain": [
       "3"
      ]
     },
     "execution_count": 42,
     "metadata": {},
     "output_type": "execute_result"
    }
   ],
   "source": [
    "nvector.max()"
   ]
  },
  {
   "cell_type": "code",
   "execution_count": 43,
   "id": "c78e4bdd-b5db-4661-93fa-dff8fe3e4702",
   "metadata": {},
   "outputs": [
    {
     "data": {
      "text/plain": [
       "0"
      ]
     },
     "execution_count": 43,
     "metadata": {},
     "output_type": "execute_result"
    }
   ],
   "source": [
    "nvector.min()"
   ]
  },
  {
   "cell_type": "code",
   "execution_count": 44,
   "id": "076763de-f10f-4777-a190-1feb8e7b87c2",
   "metadata": {},
   "outputs": [
    {
     "data": {
      "text/plain": [
       "2"
      ]
     },
     "execution_count": 44,
     "metadata": {},
     "output_type": "execute_result"
    }
   ],
   "source": [
    "nvector.argmax()"
   ]
  },
  {
   "cell_type": "code",
   "execution_count": 45,
   "id": "a7a07201-bd68-4d48-adfd-fbf489c8f677",
   "metadata": {},
   "outputs": [
    {
     "data": {
      "text/plain": [
       "3"
      ]
     },
     "execution_count": 45,
     "metadata": {},
     "output_type": "execute_result"
    }
   ],
   "source": [
    "nvector.argmin()"
   ]
  },
  {
   "cell_type": "code",
   "execution_count": 46,
   "id": "7f33b003-243a-4562-9074-13d847a66f80",
   "metadata": {},
   "outputs": [
    {
     "data": {
      "text/plain": [
       "0.6666666666666666"
      ]
     },
     "execution_count": 46,
     "metadata": {},
     "output_type": "execute_result"
    }
   ],
   "source": [
    "nvector.mean()"
   ]
  },
  {
   "cell_type": "code",
   "execution_count": 47,
   "id": "6d5e5de7-2871-4b77-b9db-51310ac7e226",
   "metadata": {},
   "outputs": [
    {
     "data": {
      "text/plain": [
       "1.0540925533894598"
      ]
     },
     "execution_count": 47,
     "metadata": {},
     "output_type": "execute_result"
    }
   ],
   "source": [
    "nvector.std()"
   ]
  },
  {
   "cell_type": "code",
   "execution_count": 55,
   "id": "1529cad0-b86e-4d21-92ab-d9755a78e78c",
   "metadata": {},
   "outputs": [],
   "source": [
    "mr = np.arange(15) ** 2"
   ]
  },
  {
   "cell_type": "code",
   "execution_count": 56,
   "id": "8ef5c658-12f0-415d-8600-6bc62337fc85",
   "metadata": {},
   "outputs": [
    {
     "data": {
      "text/plain": [
       "array([  0,   1,   4,   9,  16,  25,  36,  49,  64,  81, 100, 121, 144,\n",
       "       169, 196])"
      ]
     },
     "execution_count": 56,
     "metadata": {},
     "output_type": "execute_result"
    }
   ],
   "source": [
    "mr"
   ]
  },
  {
   "cell_type": "code",
   "execution_count": 57,
   "id": "cffff2fc-83be-4558-9044-06f99f4e6b58",
   "metadata": {},
   "outputs": [
    {
     "data": {
      "text/plain": [
       "4"
      ]
     },
     "execution_count": 57,
     "metadata": {},
     "output_type": "execute_result"
    }
   ],
   "source": [
    "mr[2]"
   ]
  },
  {
   "cell_type": "code",
   "execution_count": 58,
   "id": "ddc55a53-aae2-47ff-b5dc-8ce4cb2fedf0",
   "metadata": {},
   "outputs": [
    {
     "data": {
      "text/plain": [
       "array([ 1,  4,  9, 16])"
      ]
     },
     "execution_count": 58,
     "metadata": {},
     "output_type": "execute_result"
    }
   ],
   "source": [
    "mr[1:5]"
   ]
  },
  {
   "cell_type": "code",
   "execution_count": 59,
   "id": "85bde295-569d-4ca0-93b6-1e2ad1c79db1",
   "metadata": {},
   "outputs": [
    {
     "data": {
      "text/plain": [
       "196"
      ]
     },
     "execution_count": 59,
     "metadata": {},
     "output_type": "execute_result"
    }
   ],
   "source": [
    "mr[-1]"
   ]
  },
  {
   "cell_type": "code",
   "execution_count": 60,
   "id": "823a95da-0aeb-4a05-b8b8-c5c0c9d8a9de",
   "metadata": {},
   "outputs": [
    {
     "data": {
      "text/plain": [
       "196"
      ]
     },
     "execution_count": 60,
     "metadata": {},
     "output_type": "execute_result"
    }
   ],
   "source": [
    "mr[14]"
   ]
  },
  {
   "cell_type": "code",
   "execution_count": 61,
   "id": "5a435c83-545d-40f4-aef6-d925075d908c",
   "metadata": {},
   "outputs": [
    {
     "data": {
      "text/plain": [
       "array([ 0,  1,  4,  9, 16, 25, 36, 49, 64, 81])"
      ]
     },
     "execution_count": 61,
     "metadata": {},
     "output_type": "execute_result"
    }
   ],
   "source": [
    "mr[:10]"
   ]
  },
  {
   "cell_type": "code",
   "execution_count": 63,
   "id": "4679ad11-33cd-4dd7-a81b-dd0e9a40d33e",
   "metadata": {},
   "outputs": [
    {
     "data": {
      "text/plain": [
       "array([  4,   9,  16,  25,  36,  49,  64,  81, 100, 121, 144])"
      ]
     },
     "execution_count": 63,
     "metadata": {},
     "output_type": "execute_result"
    }
   ],
   "source": [
    "mr[2:-2]"
   ]
  },
  {
   "cell_type": "code",
   "execution_count": 64,
   "id": "e02474b8-627d-4e1d-bbf5-5e4383b62d56",
   "metadata": {},
   "outputs": [
    {
     "data": {
      "text/plain": [
       "array([  4,  16,  36,  64, 100, 144])"
      ]
     },
     "execution_count": 64,
     "metadata": {},
     "output_type": "execute_result"
    }
   ],
   "source": [
    "mr[2:-2:2]"
   ]
  },
  {
   "cell_type": "code",
   "execution_count": 9,
   "id": "bff0a317-ced0-4d31-8c73-3f23a2da1550",
   "metadata": {},
   "outputs": [
    {
     "data": {
      "text/plain": [
       "array([[1, 2, 3],\n",
       "       [0, 0, 0],\n",
       "       [0, 0, 0]])"
      ]
     },
     "execution_count": 9,
     "metadata": {},
     "output_type": "execute_result"
    }
   ],
   "source": [
    "nvector"
   ]
  },
  {
   "cell_type": "code",
   "execution_count": 10,
   "id": "c877f4e8-9a87-45b1-9f0a-851b45f9e44d",
   "metadata": {},
   "outputs": [
    {
     "data": {
      "text/plain": [
       "array([1, 2, 3])"
      ]
     },
     "execution_count": 10,
     "metadata": {},
     "output_type": "execute_result"
    }
   ],
   "source": [
    "nvector[0]"
   ]
  },
  {
   "cell_type": "code",
   "execution_count": 11,
   "id": "ddafae65-0c1b-4ac0-9895-7d0fe2740a35",
   "metadata": {},
   "outputs": [
    {
     "data": {
      "text/plain": [
       "array([[1, 2, 3],\n",
       "       [0, 0, 0]])"
      ]
     },
     "execution_count": 11,
     "metadata": {},
     "output_type": "execute_result"
    }
   ],
   "source": [
    "nvector[0:2]"
   ]
  },
  {
   "cell_type": "code",
   "execution_count": 12,
   "id": "18577a24-8d6c-44e0-972e-0aba7c85d7a6",
   "metadata": {},
   "outputs": [
    {
     "data": {
      "text/plain": [
       "array([[2, 3],\n",
       "       [0, 0]])"
      ]
     },
     "execution_count": 12,
     "metadata": {},
     "output_type": "execute_result"
    }
   ],
   "source": [
    "nvector[0:2, 1:3]"
   ]
  },
  {
   "cell_type": "code",
   "execution_count": null,
   "id": "06e25e6a-7602-4e59-8063-b18c78559392",
   "metadata": {},
   "outputs": [],
   "source": []
  }
 ],
 "metadata": {
  "kernelspec": {
   "display_name": "Python 3 (ipykernel)",
   "language": "python",
   "name": "python3"
  },
  "language_info": {
   "codemirror_mode": {
    "name": "ipython",
    "version": 3
   },
   "file_extension": ".py",
   "mimetype": "text/x-python",
   "name": "python",
   "nbconvert_exporter": "python",
   "pygments_lexer": "ipython3",
   "version": "3.12.7"
  }
 },
 "nbformat": 4,
 "nbformat_minor": 5
}
