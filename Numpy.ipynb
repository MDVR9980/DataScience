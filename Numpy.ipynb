{
 "cells": [
  {
   "cell_type": "code",
   "execution_count": 1,
   "id": "2a669783-e11a-4b01-a388-f892afe37b72",
   "metadata": {},
   "outputs": [],
   "source": [
    "list = [1, 2, 3, 5, 7, 11, 13]"
   ]
  },
  {
   "cell_type": "code",
   "execution_count": 2,
   "id": "d5ace618-a95b-4a71-b0e8-ce25c81b9cf6",
   "metadata": {},
   "outputs": [
    {
     "name": "stdout",
     "output_type": "stream",
     "text": [
      "[1, 2, 3, 5, 7, 11, 13]\n"
     ]
    }
   ],
   "source": [
    "print(list)"
   ]
  },
  {
   "cell_type": "code",
   "execution_count": 5,
   "id": "b8941440-e07a-438b-9590-bbe1eb20aa6b",
   "metadata": {},
   "outputs": [],
   "source": [
    "list2 = [2, 4, 6 ,8, 10, 12, 14]"
   ]
  },
  {
   "cell_type": "code",
   "execution_count": 6,
   "id": "4771b105-6314-4dc4-8806-206c2c5a710d",
   "metadata": {},
   "outputs": [
    {
     "name": "stdout",
     "output_type": "stream",
     "text": [
      "[2, 4, 6, 8, 10, 12, 14]\n"
     ]
    }
   ],
   "source": [
    "print(list2)  "
   ]
  },
  {
   "cell_type": "code",
   "execution_count": 7,
   "id": "1af93378-774f-4cf3-8966-ae2b901b3ae5",
   "metadata": {},
   "outputs": [],
   "source": [
    "matrix = [list, list2]"
   ]
  },
  {
   "cell_type": "code",
   "execution_count": 8,
   "id": "bb2b5fc9-ab02-4232-92c1-9bcf34e4c5bd",
   "metadata": {},
   "outputs": [
    {
     "name": "stdout",
     "output_type": "stream",
     "text": [
      "[[1, 2, 3, 5, 7, 11, 13], [2, 4, 6, 8, 10, 12, 14]]\n"
     ]
    }
   ],
   "source": [
    "print(matrix)"
   ]
  },
  {
   "cell_type": "code",
   "execution_count": 4,
   "id": "07d159b0-4c4f-49b8-8a0f-6a42859a30f8",
   "metadata": {},
   "outputs": [],
   "source": [
    " vector = [1, 2, 3]"
   ]
  },
  {
   "cell_type": "code",
   "execution_count": 10,
   "id": "a4903dec-272e-4ae5-92c7-1b93b5c6d629",
   "metadata": {},
   "outputs": [
    {
     "name": "stdout",
     "output_type": "stream",
     "text": [
      "<class 'list'>\n"
     ]
    }
   ],
   "source": [
    "print(type(vector))"
   ]
  },
  {
   "cell_type": "code",
   "execution_count": 3,
   "id": "0307773c-f539-4301-ba66-7caacb458463",
   "metadata": {},
   "outputs": [],
   "source": [
    "import numpy as np"
   ]
  },
  {
   "cell_type": "code",
   "execution_count": 5,
   "id": "518e6274-cc5f-47ea-b6ff-a03d4b8b9710",
   "metadata": {},
   "outputs": [],
   "source": [
    "nvector = np.array(vector)"
   ]
  },
  {
   "cell_type": "code",
   "execution_count": 6,
   "id": "3f560787-1483-43ba-816d-0f9122f39a86",
   "metadata": {},
   "outputs": [
    {
     "data": {
      "text/plain": [
       "array([1, 2, 3])"
      ]
     },
     "execution_count": 6,
     "metadata": {},
     "output_type": "execute_result"
    }
   ],
   "source": [
    "nvector"
   ]
  },
  {
   "cell_type": "code",
   "execution_count": 7,
   "id": "daa279d3-ed30-4ce3-bbbb-8481bdc10e26",
   "metadata": {},
   "outputs": [
    {
     "data": {
      "text/plain": [
       "array([[1, 2, 3, 1],\n",
       "       [2, 3, 1, 2],\n",
       "       [3, 1, 2, 3],\n",
       "       [1, 2, 3, 1]])"
      ]
     },
     "execution_count": 7,
     "metadata": {},
     "output_type": "execute_result"
    }
   ],
   "source": [
    "np.resize(nvector, (4, 4))"
   ]
  },
  {
   "cell_type": "code",
   "execution_count": 8,
   "id": "627417b9-4558-4c2f-bada-8899856ec539",
   "metadata": {},
   "outputs": [],
   "source": [
    "nvector.resize((3, 3), refcheck= False)"
   ]
  },
  {
   "cell_type": "code",
   "execution_count": 9,
   "id": "0771771b-ffef-4007-afda-7817677efc4a",
   "metadata": {},
   "outputs": [
    {
     "data": {
      "text/plain": [
       "array([[1, 2, 3],\n",
       "       [0, 0, 0],\n",
       "       [0, 0, 0]])"
      ]
     },
     "execution_count": 9,
     "metadata": {},
     "output_type": "execute_result"
    }
   ],
   "source": [
    "nvector"
   ]
  },
  {
   "cell_type": "code",
   "execution_count": 19,
   "id": "9fc03da4-83fe-4c79-a853-da84deb372f7",
   "metadata": {},
   "outputs": [],
   "source": [
    "matrix = np.ones((4, 4))"
   ]
  },
  {
   "cell_type": "code",
   "execution_count": 12,
   "id": "dfbcf6ae-26b1-4ea8-a992-eefdf1f5ee12",
   "metadata": {},
   "outputs": [
    {
     "data": {
      "text/plain": [
       "array([[1., 1., 1., 1.],\n",
       "       [1., 1., 1., 1.],\n",
       "       [1., 1., 1., 1.],\n",
       "       [1., 1., 1., 1.]])"
      ]
     },
     "execution_count": 12,
     "metadata": {},
     "output_type": "execute_result"
    }
   ],
   "source": [
    "matrix"
   ]
  },
  {
   "cell_type": "code",
   "execution_count": 13,
   "id": "bb963759-b5a0-412a-a60f-50e8795e7e2e",
   "metadata": {},
   "outputs": [],
   "source": [
    "matrix = np.zeros((4, 4))"
   ]
  },
  {
   "cell_type": "code",
   "execution_count": 14,
   "id": "ca53f183-64f0-4072-b7d6-0ddf4e62cc3a",
   "metadata": {},
   "outputs": [
    {
     "data": {
      "text/plain": [
       "array([[0., 0., 0., 0.],\n",
       "       [0., 0., 0., 0.],\n",
       "       [0., 0., 0., 0.],\n",
       "       [0., 0., 0., 0.]])"
      ]
     },
     "execution_count": 14,
     "metadata": {},
     "output_type": "execute_result"
    }
   ],
   "source": [
    "matrix"
   ]
  },
  {
   "cell_type": "code",
   "execution_count": 20,
   "id": "2ba0b874-be3e-4f70-a029-bcfd1336c3f2",
   "metadata": {},
   "outputs": [],
   "source": [
    "matrix2 = np.diag(matrix)"
   ]
  },
  {
   "cell_type": "code",
   "execution_count": 21,
   "id": "e37952c8-58d9-4452-82b9-e7cba76edff1",
   "metadata": {},
   "outputs": [
    {
     "data": {
      "text/plain": [
       "array([1., 1., 1., 1.])"
      ]
     },
     "execution_count": 21,
     "metadata": {},
     "output_type": "execute_result"
    }
   ],
   "source": [
    "matrix2"
   ]
  },
  {
   "cell_type": "code",
   "execution_count": 22,
   "id": "fe74ef24-fda9-45d5-a841-4518e237ea4a",
   "metadata": {},
   "outputs": [
    {
     "data": {
      "text/plain": [
       "array([4, 4, 4, 4, 4, 3, 3, 3, 3, 3, 2, 2, 2, 2, 2])"
      ]
     },
     "execution_count": 22,
     "metadata": {},
     "output_type": "execute_result"
    }
   ],
   "source": [
    "np.repeat([4, 3, 2], 5)"
   ]
  },
  {
   "cell_type": "code",
   "execution_count": 24,
   "id": "04731e49-9e49-4c30-8734-46f7c30e637d",
   "metadata": {},
   "outputs": [],
   "source": [
    "matrix = np.zeros((4, 4), int)"
   ]
  },
  {
   "cell_type": "code",
   "execution_count": 25,
   "id": "49da8b64-0710-433b-bbe5-2d2b9a29da22",
   "metadata": {},
   "outputs": [
    {
     "data": {
      "text/plain": [
       "array([[0, 0, 0, 0],\n",
       "       [0, 0, 0, 0],\n",
       "       [0, 0, 0, 0],\n",
       "       [0, 0, 0, 0]])"
      ]
     },
     "execution_count": 25,
     "metadata": {},
     "output_type": "execute_result"
    }
   ],
   "source": [
    "matrix"
   ]
  },
  {
   "cell_type": "code",
   "execution_count": 26,
   "id": "2eedfb92-85b3-42d1-a316-8a561d4b6ad4",
   "metadata": {},
   "outputs": [],
   "source": [
    "m1 = np.zeros((3, 5), int)"
   ]
  },
  {
   "cell_type": "code",
   "execution_count": 27,
   "id": "008a2bda-6021-48a0-9542-670a308a403d",
   "metadata": {},
   "outputs": [
    {
     "data": {
      "text/plain": [
       "array([[0, 0, 0, 0, 0],\n",
       "       [0, 0, 0, 0, 0],\n",
       "       [0, 0, 0, 0, 0]])"
      ]
     },
     "execution_count": 27,
     "metadata": {},
     "output_type": "execute_result"
    }
   ],
   "source": [
    "m1"
   ]
  },
  {
   "cell_type": "code",
   "execution_count": 29,
   "id": "93f5d6bc-ec1c-4cf8-8e56-454fa1b8385a",
   "metadata": {},
   "outputs": [],
   "source": [
    "m2 = np.ones((3, 5), int)"
   ]
  },
  {
   "cell_type": "code",
   "execution_count": 30,
   "id": "010e7176-a78c-40b8-98f1-f1cbf2e1c4ff",
   "metadata": {},
   "outputs": [
    {
     "data": {
      "text/plain": [
       "array([[1, 1, 1, 1, 1],\n",
       "       [1, 1, 1, 1, 1],\n",
       "       [1, 1, 1, 1, 1],\n",
       "       [0, 0, 0, 0, 0],\n",
       "       [0, 0, 0, 0, 0],\n",
       "       [0, 0, 0, 0, 0]])"
      ]
     },
     "execution_count": 30,
     "metadata": {},
     "output_type": "execute_result"
    }
   ],
   "source": [
    "np.vstack([m2, m1])"
   ]
  },
  {
   "cell_type": "code",
   "execution_count": 31,
   "id": "5d93dfa9-8fe9-4489-a158-78715d2fdbad",
   "metadata": {},
   "outputs": [
    {
     "data": {
      "text/plain": [
       "array([[0, 0, 0, 0, 0, 1, 1, 1, 1, 1],\n",
       "       [0, 0, 0, 0, 0, 1, 1, 1, 1, 1],\n",
       "       [0, 0, 0, 0, 0, 1, 1, 1, 1, 1]])"
      ]
     },
     "execution_count": 31,
     "metadata": {},
     "output_type": "execute_result"
    }
   ],
   "source": [
    "np.hstack([m1, m2])"
   ]
  },
  {
   "cell_type": "code",
   "execution_count": 32,
   "id": "92c3687e-cf51-4b6c-a93d-afcab76b67b5",
   "metadata": {},
   "outputs": [],
   "source": [
    "x = np.array([1, 2, 3])\n",
    "y = np.array([4, 5, 6])"
   ]
  },
  {
   "cell_type": "code",
   "execution_count": 33,
   "id": "441b26f5-dbd6-41cc-836e-c50b31713038",
   "metadata": {},
   "outputs": [
    {
     "data": {
      "text/plain": [
       "array([5, 7, 9])"
      ]
     },
     "execution_count": 33,
     "metadata": {},
     "output_type": "execute_result"
    }
   ],
   "source": [
    "z = x + y\n",
    "z"
   ]
  },
  {
   "cell_type": "code",
   "execution_count": null,
   "id": "98bf1108-c18a-463c-8c0b-ed3ae8f17e11",
   "metadata": {},
   "outputs": [],
   "source": []
  }
 ],
 "metadata": {
  "kernelspec": {
   "display_name": "Python 3 (ipykernel)",
   "language": "python",
   "name": "python3"
  },
  "language_info": {
   "codemirror_mode": {
    "name": "ipython",
    "version": 3
   },
   "file_extension": ".py",
   "mimetype": "text/x-python",
   "name": "python",
   "nbconvert_exporter": "python",
   "pygments_lexer": "ipython3",
   "version": "3.12.7"
  }
 },
 "nbformat": 4,
 "nbformat_minor": 5
}
